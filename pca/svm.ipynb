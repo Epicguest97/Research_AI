{
 "cells": [
  {
   "cell_type": "code",
   "execution_count": 39,
   "id": "0d073720-5910-45fd-95e8-8dfff36c3f29",
   "metadata": {},
   "outputs": [],
   "source": [
    "import pandas as pd\n",
    "import numpy as np\n",
    "import matplotlib.pyplot as plt\n",
    "\n",
    "# Load Titanic dataset\n",
    "file_path = 'titanic.csv'  # Adjust this if needed\n",
    "titanic_data = pd.read_csv(file_path)"
   ]
  },
  {
   "cell_type": "code",
   "execution_count": 23,
   "id": "df683cb4-f20d-4ee3-98e1-a9f918efbf46",
   "metadata": {},
   "outputs": [],
   "source": [
    "# Step 1: Preprocessing\n",
    "# Drop irrelevant features\n",
    "titanic_data_cleaned = titanic_data.drop(columns=['PassengerId', 'Name', 'Ticket', 'Cabin'])\n",
    "\n",
    "# Handle missing values\n",
    "titanic_data_cleaned['Age'].fillna(titanic_data_cleaned['Age'].mean(), inplace=True)  # Fill Age with mean\n",
    "titanic_data_cleaned['Embarked'].fillna('missing', inplace=True)  # Fill Embarked with placeholder\n",
    "\n",
    "# Encode categorical variables\n",
    "titanic_data_encoded = pd.get_dummies(titanic_data_cleaned, drop_first=True)\n",
    "\n",
    "# Separate features and target variable\n",
    "X = titanic_data_encoded.drop(columns=['Survived'])\n",
    "y = titanic_data_encoded['Survived']"
   ]
  },
  {
   "cell_type": "code",
   "execution_count": 37,
   "id": "c2e79189-ad46-4a35-992c-5d535308ab45",
   "metadata": {},
   "outputs": [
    {
     "name": "stdout",
     "output_type": "stream",
     "text": [
      "(891, 9)\n"
     ]
    }
   ],
   "source": [
    "# Step 2: Standardize the data\n",
    "X_mean = X.mean()\n",
    "X_std = X.std()\n",
    "X_standardized = (X - X_mean) / X_std\n",
    "print(X_standardized.shape)"
   ]
  },
  {
   "cell_type": "code",
   "execution_count": 27,
   "id": "06971edb-17af-44c4-92b0-f75f7e448e2b",
   "metadata": {},
   "outputs": [],
   "source": [
    "X=X_standardized"
   ]
  },
  {
   "cell_type": "code",
   "execution_count": 35,
   "id": "591c300f-4020-4b45-9afd-7b326b125500",
   "metadata": {},
   "outputs": [
    {
     "name": "stdout",
     "output_type": "stream",
     "text": [
      "Accuracy: 79.57%\n",
      "Precision: 73.95%\n",
      "Recall: 72.22%\n",
      "F1 Score: 73.08%\n"
     ]
    }
   ],
   "source": [
    "import numpy as np\n",
    "\n",
    "# Hinge loss function\n",
    "def hinge_loss(w, X, y, C=1):\n",
    "    return 0.5 * np.dot(w, w) + C * np.sum(np.maximum(0, 1 - y * (np.dot(X, w))))\n",
    "\n",
    "# Gradient of the hinge loss\n",
    "def gradient(w, X, y, C=1):\n",
    "    return w - C * np.dot(X.T, (y * (np.maximum(0, 1 - y * np.dot(X, w)))))\n",
    "\n",
    "# Train the model using Gradient Descent\n",
    "def train_svm(X, y, learning_rate=0.001, epochs=1000, C=1):\n",
    "    # Initialize weights\n",
    "    w = np.zeros(X.shape[1])\n",
    "    y = 2 * y - 1  # Convert target to {-1, 1}\n",
    "    \n",
    "    for epoch in range(epochs):\n",
    "        grad = gradient(w, X, y, C)\n",
    "        w -= learning_rate * grad\n",
    "        \n",
    "        # Optionally, print the loss every 100 epochs\n",
    "        # if epoch % 100 == 0:\n",
    "        #     loss = hinge_loss(w, X, y, C)\n",
    "        #     print(f\"Epoch {epoch}: Loss = {loss}\")\n",
    "    \n",
    "    return w\n",
    "\n",
    "# Now let's train the model and get the weights (w)\n",
    "w = train_svm(X, y)\n",
    "\n",
    "# Predict with SVM\n",
    "y_pred = np.sign(np.dot(X, w))  # SVM predictions in -1, 1\n",
    "\n",
    "# Convert y_pred back to 0/1 for consistency\n",
    "y_pred_binary = np.where(y_pred == -1, 0, 1)\n",
    "\n",
    "# 2. Accuracy using confusion matrix\n",
    "TP = np.sum((y_pred_binary == 1) & (y == 1))  # True Positives\n",
    "TN = np.sum((y_pred_binary == 0) & (y == 0))  # True Negatives\n",
    "FP = np.sum((y_pred_binary == 1) & (y == 0))  # False Positives\n",
    "FN = np.sum((y_pred_binary == 0) & (y == 1))  # False Negatives\n",
    "\n",
    "accuracy = (TP + TN) / (TP + TN + FP + FN)  # Consistent with 0, 1 labels\n",
    "precision = TP / (TP + FP) if (TP + FP) != 0 else 0\n",
    "recall = TP / (TP + FN) if (TP + FN) != 0 else 0\n",
    "f1_score = 2 * (precision * recall) / (precision + recall) if (precision + recall) != 0 else 0\n",
    "\n",
    "# Display the results\n",
    "print(f\"Accuracy: {accuracy * 100:.2f}%\")\n",
    "print(f\"Precision: {precision * 100:.2f}%\")\n",
    "print(f\"Recall: {recall * 100:.2f}%\")\n",
    "print(f\"F1 Score: {f1_score * 100:.2f}%\")\n"
   ]
  },
  {
   "cell_type": "code",
   "execution_count": null,
   "id": "54cf1d6a-292c-4714-930a-3f004a254611",
   "metadata": {},
   "outputs": [],
   "source": []
  },
  {
   "cell_type": "code",
   "execution_count": null,
   "id": "efa5c51a-94c3-4c16-ab1c-648d9952aa6f",
   "metadata": {},
   "outputs": [],
   "source": []
  },
  {
   "cell_type": "code",
   "execution_count": null,
   "id": "120055cb-1cb3-440b-af13-b6eb733bab94",
   "metadata": {},
   "outputs": [],
   "source": []
  }
 ],
 "metadata": {
  "kernelspec": {
   "display_name": "Python 3 (ipykernel)",
   "language": "python",
   "name": "python3"
  },
  "language_info": {
   "codemirror_mode": {
    "name": "ipython",
    "version": 3
   },
   "file_extension": ".py",
   "mimetype": "text/x-python",
   "name": "python",
   "nbconvert_exporter": "python",
   "pygments_lexer": "ipython3",
   "version": "3.11.8"
  }
 },
 "nbformat": 4,
 "nbformat_minor": 5
}
