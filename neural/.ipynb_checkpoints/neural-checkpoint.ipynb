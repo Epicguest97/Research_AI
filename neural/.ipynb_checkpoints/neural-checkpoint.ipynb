{
 "cells": [
  {
   "cell_type": "code",
   "execution_count": 49,
   "id": "696c31b3-5c8f-44b4-8d27-931169c9354e",
   "metadata": {},
   "outputs": [],
   "source": [
    "import pandas as pd\n",
    "import numpy as np\n",
    "import matplotlib.pyplot as plt\n",
    "from tensorflow.keras.utils import to_categorical"
   ]
  },
  {
   "cell_type": "markdown",
   "id": "319a7963-2ca1-4c0d-92a5-f28cc28c8409",
   "metadata": {},
   "source": [
    "# 1. Load the dataset"
   ]
  },
  {
   "cell_type": "code",
   "execution_count": 52,
   "id": "3548a677-502b-49de-ab8c-584a9654196d",
   "metadata": {},
   "outputs": [],
   "source": [
    "file_path = \"fashion-mnist_train.csv\" \n",
    "data = pd.read_csv(file_path)"
   ]
  },
  {
   "cell_type": "markdown",
   "id": "14422de2-f984-4dc5-ac4c-ac11d6cc709d",
   "metadata": {},
   "source": [
    "# 2. Explore the data"
   ]
  },
  {
   "cell_type": "code",
   "execution_count": 54,
   "id": "f32da117-4ce9-4de6-9088-0d9357094764",
   "metadata": {},
   "outputs": [
    {
     "name": "stdout",
     "output_type": "stream",
     "text": [
      "Dataset head:\n"
     ]
    },
    {
     "data": {
      "text/html": [
       "<div>\n",
       "<style scoped>\n",
       "    .dataframe tbody tr th:only-of-type {\n",
       "        vertical-align: middle;\n",
       "    }\n",
       "\n",
       "    .dataframe tbody tr th {\n",
       "        vertical-align: top;\n",
       "    }\n",
       "\n",
       "    .dataframe thead th {\n",
       "        text-align: right;\n",
       "    }\n",
       "</style>\n",
       "<table border=\"1\" class=\"dataframe\">\n",
       "  <thead>\n",
       "    <tr style=\"text-align: right;\">\n",
       "      <th></th>\n",
       "      <th>label</th>\n",
       "      <th>pixel1</th>\n",
       "      <th>pixel2</th>\n",
       "      <th>pixel3</th>\n",
       "      <th>pixel4</th>\n",
       "      <th>pixel5</th>\n",
       "      <th>pixel6</th>\n",
       "      <th>pixel7</th>\n",
       "      <th>pixel8</th>\n",
       "      <th>pixel9</th>\n",
       "      <th>...</th>\n",
       "      <th>pixel775</th>\n",
       "      <th>pixel776</th>\n",
       "      <th>pixel777</th>\n",
       "      <th>pixel778</th>\n",
       "      <th>pixel779</th>\n",
       "      <th>pixel780</th>\n",
       "      <th>pixel781</th>\n",
       "      <th>pixel782</th>\n",
       "      <th>pixel783</th>\n",
       "      <th>pixel784</th>\n",
       "    </tr>\n",
       "  </thead>\n",
       "  <tbody>\n",
       "    <tr>\n",
       "      <th>0</th>\n",
       "      <td>2</td>\n",
       "      <td>0</td>\n",
       "      <td>0</td>\n",
       "      <td>0</td>\n",
       "      <td>0</td>\n",
       "      <td>0</td>\n",
       "      <td>0</td>\n",
       "      <td>0</td>\n",
       "      <td>0</td>\n",
       "      <td>0</td>\n",
       "      <td>...</td>\n",
       "      <td>0</td>\n",
       "      <td>0</td>\n",
       "      <td>0</td>\n",
       "      <td>0</td>\n",
       "      <td>0</td>\n",
       "      <td>0</td>\n",
       "      <td>0</td>\n",
       "      <td>0</td>\n",
       "      <td>0</td>\n",
       "      <td>0</td>\n",
       "    </tr>\n",
       "    <tr>\n",
       "      <th>1</th>\n",
       "      <td>9</td>\n",
       "      <td>0</td>\n",
       "      <td>0</td>\n",
       "      <td>0</td>\n",
       "      <td>0</td>\n",
       "      <td>0</td>\n",
       "      <td>0</td>\n",
       "      <td>0</td>\n",
       "      <td>0</td>\n",
       "      <td>0</td>\n",
       "      <td>...</td>\n",
       "      <td>0</td>\n",
       "      <td>0</td>\n",
       "      <td>0</td>\n",
       "      <td>0</td>\n",
       "      <td>0</td>\n",
       "      <td>0</td>\n",
       "      <td>0</td>\n",
       "      <td>0</td>\n",
       "      <td>0</td>\n",
       "      <td>0</td>\n",
       "    </tr>\n",
       "    <tr>\n",
       "      <th>2</th>\n",
       "      <td>6</td>\n",
       "      <td>0</td>\n",
       "      <td>0</td>\n",
       "      <td>0</td>\n",
       "      <td>0</td>\n",
       "      <td>0</td>\n",
       "      <td>0</td>\n",
       "      <td>0</td>\n",
       "      <td>5</td>\n",
       "      <td>0</td>\n",
       "      <td>...</td>\n",
       "      <td>0</td>\n",
       "      <td>0</td>\n",
       "      <td>0</td>\n",
       "      <td>30</td>\n",
       "      <td>43</td>\n",
       "      <td>0</td>\n",
       "      <td>0</td>\n",
       "      <td>0</td>\n",
       "      <td>0</td>\n",
       "      <td>0</td>\n",
       "    </tr>\n",
       "    <tr>\n",
       "      <th>3</th>\n",
       "      <td>0</td>\n",
       "      <td>0</td>\n",
       "      <td>0</td>\n",
       "      <td>0</td>\n",
       "      <td>1</td>\n",
       "      <td>2</td>\n",
       "      <td>0</td>\n",
       "      <td>0</td>\n",
       "      <td>0</td>\n",
       "      <td>0</td>\n",
       "      <td>...</td>\n",
       "      <td>3</td>\n",
       "      <td>0</td>\n",
       "      <td>0</td>\n",
       "      <td>0</td>\n",
       "      <td>0</td>\n",
       "      <td>1</td>\n",
       "      <td>0</td>\n",
       "      <td>0</td>\n",
       "      <td>0</td>\n",
       "      <td>0</td>\n",
       "    </tr>\n",
       "    <tr>\n",
       "      <th>4</th>\n",
       "      <td>3</td>\n",
       "      <td>0</td>\n",
       "      <td>0</td>\n",
       "      <td>0</td>\n",
       "      <td>0</td>\n",
       "      <td>0</td>\n",
       "      <td>0</td>\n",
       "      <td>0</td>\n",
       "      <td>0</td>\n",
       "      <td>0</td>\n",
       "      <td>...</td>\n",
       "      <td>0</td>\n",
       "      <td>0</td>\n",
       "      <td>0</td>\n",
       "      <td>0</td>\n",
       "      <td>0</td>\n",
       "      <td>0</td>\n",
       "      <td>0</td>\n",
       "      <td>0</td>\n",
       "      <td>0</td>\n",
       "      <td>0</td>\n",
       "    </tr>\n",
       "  </tbody>\n",
       "</table>\n",
       "<p>5 rows × 785 columns</p>\n",
       "</div>"
      ],
      "text/plain": [
       "   label  pixel1  pixel2  pixel3  pixel4  pixel5  pixel6  pixel7  pixel8  \\\n",
       "0      2       0       0       0       0       0       0       0       0   \n",
       "1      9       0       0       0       0       0       0       0       0   \n",
       "2      6       0       0       0       0       0       0       0       5   \n",
       "3      0       0       0       0       1       2       0       0       0   \n",
       "4      3       0       0       0       0       0       0       0       0   \n",
       "\n",
       "   pixel9  ...  pixel775  pixel776  pixel777  pixel778  pixel779  pixel780  \\\n",
       "0       0  ...         0         0         0         0         0         0   \n",
       "1       0  ...         0         0         0         0         0         0   \n",
       "2       0  ...         0         0         0        30        43         0   \n",
       "3       0  ...         3         0         0         0         0         1   \n",
       "4       0  ...         0         0         0         0         0         0   \n",
       "\n",
       "   pixel781  pixel782  pixel783  pixel784  \n",
       "0         0         0         0         0  \n",
       "1         0         0         0         0  \n",
       "2         0         0         0         0  \n",
       "3         0         0         0         0  \n",
       "4         0         0         0         0  \n",
       "\n",
       "[5 rows x 785 columns]"
      ]
     },
     "metadata": {},
     "output_type": "display_data"
    },
    {
     "name": "stdout",
     "output_type": "stream",
     "text": [
      "\n",
      "Dataset info:\n",
      "<class 'pandas.core.frame.DataFrame'>\n",
      "RangeIndex: 60000 entries, 0 to 59999\n",
      "Columns: 785 entries, label to pixel784\n",
      "dtypes: int64(785)\n",
      "memory usage: 359.3 MB\n"
     ]
    },
    {
     "data": {
      "text/plain": [
       "None"
      ]
     },
     "metadata": {},
     "output_type": "display_data"
    },
    {
     "name": "stdout",
     "output_type": "stream",
     "text": [
      "\n",
      "Basic statistics:\n"
     ]
    },
    {
     "data": {
      "text/html": [
       "<div>\n",
       "<style scoped>\n",
       "    .dataframe tbody tr th:only-of-type {\n",
       "        vertical-align: middle;\n",
       "    }\n",
       "\n",
       "    .dataframe tbody tr th {\n",
       "        vertical-align: top;\n",
       "    }\n",
       "\n",
       "    .dataframe thead th {\n",
       "        text-align: right;\n",
       "    }\n",
       "</style>\n",
       "<table border=\"1\" class=\"dataframe\">\n",
       "  <thead>\n",
       "    <tr style=\"text-align: right;\">\n",
       "      <th></th>\n",
       "      <th>label</th>\n",
       "      <th>pixel1</th>\n",
       "      <th>pixel2</th>\n",
       "      <th>pixel3</th>\n",
       "      <th>pixel4</th>\n",
       "      <th>pixel5</th>\n",
       "      <th>pixel6</th>\n",
       "      <th>pixel7</th>\n",
       "      <th>pixel8</th>\n",
       "      <th>pixel9</th>\n",
       "      <th>...</th>\n",
       "      <th>pixel775</th>\n",
       "      <th>pixel776</th>\n",
       "      <th>pixel777</th>\n",
       "      <th>pixel778</th>\n",
       "      <th>pixel779</th>\n",
       "      <th>pixel780</th>\n",
       "      <th>pixel781</th>\n",
       "      <th>pixel782</th>\n",
       "      <th>pixel783</th>\n",
       "      <th>pixel784</th>\n",
       "    </tr>\n",
       "  </thead>\n",
       "  <tbody>\n",
       "    <tr>\n",
       "      <th>count</th>\n",
       "      <td>60000.000000</td>\n",
       "      <td>60000.000000</td>\n",
       "      <td>60000.000000</td>\n",
       "      <td>60000.000000</td>\n",
       "      <td>60000.000000</td>\n",
       "      <td>60000.000000</td>\n",
       "      <td>60000.000000</td>\n",
       "      <td>60000.000000</td>\n",
       "      <td>60000.000000</td>\n",
       "      <td>60000.000000</td>\n",
       "      <td>...</td>\n",
       "      <td>60000.000000</td>\n",
       "      <td>60000.000000</td>\n",
       "      <td>60000.000000</td>\n",
       "      <td>60000.000000</td>\n",
       "      <td>60000.000000</td>\n",
       "      <td>60000.000000</td>\n",
       "      <td>60000.000000</td>\n",
       "      <td>60000.000000</td>\n",
       "      <td>60000.000000</td>\n",
       "      <td>60000.00000</td>\n",
       "    </tr>\n",
       "    <tr>\n",
       "      <th>mean</th>\n",
       "      <td>4.500000</td>\n",
       "      <td>0.000900</td>\n",
       "      <td>0.006150</td>\n",
       "      <td>0.035333</td>\n",
       "      <td>0.101933</td>\n",
       "      <td>0.247967</td>\n",
       "      <td>0.411467</td>\n",
       "      <td>0.805767</td>\n",
       "      <td>2.198283</td>\n",
       "      <td>5.682000</td>\n",
       "      <td>...</td>\n",
       "      <td>34.625400</td>\n",
       "      <td>23.300683</td>\n",
       "      <td>16.588267</td>\n",
       "      <td>17.869433</td>\n",
       "      <td>22.814817</td>\n",
       "      <td>17.911483</td>\n",
       "      <td>8.520633</td>\n",
       "      <td>2.753300</td>\n",
       "      <td>0.855517</td>\n",
       "      <td>0.07025</td>\n",
       "    </tr>\n",
       "    <tr>\n",
       "      <th>std</th>\n",
       "      <td>2.872305</td>\n",
       "      <td>0.094689</td>\n",
       "      <td>0.271011</td>\n",
       "      <td>1.222324</td>\n",
       "      <td>2.452871</td>\n",
       "      <td>4.306912</td>\n",
       "      <td>5.836188</td>\n",
       "      <td>8.215169</td>\n",
       "      <td>14.093378</td>\n",
       "      <td>23.819481</td>\n",
       "      <td>...</td>\n",
       "      <td>57.545242</td>\n",
       "      <td>48.854427</td>\n",
       "      <td>41.979611</td>\n",
       "      <td>43.966032</td>\n",
       "      <td>51.830477</td>\n",
       "      <td>45.149388</td>\n",
       "      <td>29.614859</td>\n",
       "      <td>17.397652</td>\n",
       "      <td>9.356960</td>\n",
       "      <td>2.12587</td>\n",
       "    </tr>\n",
       "    <tr>\n",
       "      <th>min</th>\n",
       "      <td>0.000000</td>\n",
       "      <td>0.000000</td>\n",
       "      <td>0.000000</td>\n",
       "      <td>0.000000</td>\n",
       "      <td>0.000000</td>\n",
       "      <td>0.000000</td>\n",
       "      <td>0.000000</td>\n",
       "      <td>0.000000</td>\n",
       "      <td>0.000000</td>\n",
       "      <td>0.000000</td>\n",
       "      <td>...</td>\n",
       "      <td>0.000000</td>\n",
       "      <td>0.000000</td>\n",
       "      <td>0.000000</td>\n",
       "      <td>0.000000</td>\n",
       "      <td>0.000000</td>\n",
       "      <td>0.000000</td>\n",
       "      <td>0.000000</td>\n",
       "      <td>0.000000</td>\n",
       "      <td>0.000000</td>\n",
       "      <td>0.00000</td>\n",
       "    </tr>\n",
       "    <tr>\n",
       "      <th>25%</th>\n",
       "      <td>2.000000</td>\n",
       "      <td>0.000000</td>\n",
       "      <td>0.000000</td>\n",
       "      <td>0.000000</td>\n",
       "      <td>0.000000</td>\n",
       "      <td>0.000000</td>\n",
       "      <td>0.000000</td>\n",
       "      <td>0.000000</td>\n",
       "      <td>0.000000</td>\n",
       "      <td>0.000000</td>\n",
       "      <td>...</td>\n",
       "      <td>0.000000</td>\n",
       "      <td>0.000000</td>\n",
       "      <td>0.000000</td>\n",
       "      <td>0.000000</td>\n",
       "      <td>0.000000</td>\n",
       "      <td>0.000000</td>\n",
       "      <td>0.000000</td>\n",
       "      <td>0.000000</td>\n",
       "      <td>0.000000</td>\n",
       "      <td>0.00000</td>\n",
       "    </tr>\n",
       "    <tr>\n",
       "      <th>50%</th>\n",
       "      <td>4.500000</td>\n",
       "      <td>0.000000</td>\n",
       "      <td>0.000000</td>\n",
       "      <td>0.000000</td>\n",
       "      <td>0.000000</td>\n",
       "      <td>0.000000</td>\n",
       "      <td>0.000000</td>\n",
       "      <td>0.000000</td>\n",
       "      <td>0.000000</td>\n",
       "      <td>0.000000</td>\n",
       "      <td>...</td>\n",
       "      <td>0.000000</td>\n",
       "      <td>0.000000</td>\n",
       "      <td>0.000000</td>\n",
       "      <td>0.000000</td>\n",
       "      <td>0.000000</td>\n",
       "      <td>0.000000</td>\n",
       "      <td>0.000000</td>\n",
       "      <td>0.000000</td>\n",
       "      <td>0.000000</td>\n",
       "      <td>0.00000</td>\n",
       "    </tr>\n",
       "    <tr>\n",
       "      <th>75%</th>\n",
       "      <td>7.000000</td>\n",
       "      <td>0.000000</td>\n",
       "      <td>0.000000</td>\n",
       "      <td>0.000000</td>\n",
       "      <td>0.000000</td>\n",
       "      <td>0.000000</td>\n",
       "      <td>0.000000</td>\n",
       "      <td>0.000000</td>\n",
       "      <td>0.000000</td>\n",
       "      <td>0.000000</td>\n",
       "      <td>...</td>\n",
       "      <td>58.000000</td>\n",
       "      <td>9.000000</td>\n",
       "      <td>0.000000</td>\n",
       "      <td>0.000000</td>\n",
       "      <td>0.000000</td>\n",
       "      <td>0.000000</td>\n",
       "      <td>0.000000</td>\n",
       "      <td>0.000000</td>\n",
       "      <td>0.000000</td>\n",
       "      <td>0.00000</td>\n",
       "    </tr>\n",
       "    <tr>\n",
       "      <th>max</th>\n",
       "      <td>9.000000</td>\n",
       "      <td>16.000000</td>\n",
       "      <td>36.000000</td>\n",
       "      <td>226.000000</td>\n",
       "      <td>164.000000</td>\n",
       "      <td>227.000000</td>\n",
       "      <td>230.000000</td>\n",
       "      <td>224.000000</td>\n",
       "      <td>255.000000</td>\n",
       "      <td>254.000000</td>\n",
       "      <td>...</td>\n",
       "      <td>255.000000</td>\n",
       "      <td>255.000000</td>\n",
       "      <td>255.000000</td>\n",
       "      <td>255.000000</td>\n",
       "      <td>255.000000</td>\n",
       "      <td>255.000000</td>\n",
       "      <td>255.000000</td>\n",
       "      <td>255.000000</td>\n",
       "      <td>255.000000</td>\n",
       "      <td>170.00000</td>\n",
       "    </tr>\n",
       "  </tbody>\n",
       "</table>\n",
       "<p>8 rows × 785 columns</p>\n",
       "</div>"
      ],
      "text/plain": [
       "              label        pixel1        pixel2        pixel3        pixel4  \\\n",
       "count  60000.000000  60000.000000  60000.000000  60000.000000  60000.000000   \n",
       "mean       4.500000      0.000900      0.006150      0.035333      0.101933   \n",
       "std        2.872305      0.094689      0.271011      1.222324      2.452871   \n",
       "min        0.000000      0.000000      0.000000      0.000000      0.000000   \n",
       "25%        2.000000      0.000000      0.000000      0.000000      0.000000   \n",
       "50%        4.500000      0.000000      0.000000      0.000000      0.000000   \n",
       "75%        7.000000      0.000000      0.000000      0.000000      0.000000   \n",
       "max        9.000000     16.000000     36.000000    226.000000    164.000000   \n",
       "\n",
       "             pixel5        pixel6        pixel7        pixel8        pixel9  \\\n",
       "count  60000.000000  60000.000000  60000.000000  60000.000000  60000.000000   \n",
       "mean       0.247967      0.411467      0.805767      2.198283      5.682000   \n",
       "std        4.306912      5.836188      8.215169     14.093378     23.819481   \n",
       "min        0.000000      0.000000      0.000000      0.000000      0.000000   \n",
       "25%        0.000000      0.000000      0.000000      0.000000      0.000000   \n",
       "50%        0.000000      0.000000      0.000000      0.000000      0.000000   \n",
       "75%        0.000000      0.000000      0.000000      0.000000      0.000000   \n",
       "max      227.000000    230.000000    224.000000    255.000000    254.000000   \n",
       "\n",
       "       ...      pixel775      pixel776      pixel777      pixel778  \\\n",
       "count  ...  60000.000000  60000.000000  60000.000000  60000.000000   \n",
       "mean   ...     34.625400     23.300683     16.588267     17.869433   \n",
       "std    ...     57.545242     48.854427     41.979611     43.966032   \n",
       "min    ...      0.000000      0.000000      0.000000      0.000000   \n",
       "25%    ...      0.000000      0.000000      0.000000      0.000000   \n",
       "50%    ...      0.000000      0.000000      0.000000      0.000000   \n",
       "75%    ...     58.000000      9.000000      0.000000      0.000000   \n",
       "max    ...    255.000000    255.000000    255.000000    255.000000   \n",
       "\n",
       "           pixel779      pixel780      pixel781      pixel782      pixel783  \\\n",
       "count  60000.000000  60000.000000  60000.000000  60000.000000  60000.000000   \n",
       "mean      22.814817     17.911483      8.520633      2.753300      0.855517   \n",
       "std       51.830477     45.149388     29.614859     17.397652      9.356960   \n",
       "min        0.000000      0.000000      0.000000      0.000000      0.000000   \n",
       "25%        0.000000      0.000000      0.000000      0.000000      0.000000   \n",
       "50%        0.000000      0.000000      0.000000      0.000000      0.000000   \n",
       "75%        0.000000      0.000000      0.000000      0.000000      0.000000   \n",
       "max      255.000000    255.000000    255.000000    255.000000    255.000000   \n",
       "\n",
       "          pixel784  \n",
       "count  60000.00000  \n",
       "mean       0.07025  \n",
       "std        2.12587  \n",
       "min        0.00000  \n",
       "25%        0.00000  \n",
       "50%        0.00000  \n",
       "75%        0.00000  \n",
       "max      170.00000  \n",
       "\n",
       "[8 rows x 785 columns]"
      ]
     },
     "metadata": {},
     "output_type": "display_data"
    }
   ],
   "source": [
    "print(\"Dataset head:\")\n",
    "display(data.head())\n",
    "print(\"\\nDataset info:\")\n",
    "display(data.info())\n",
    "print(\"\\nBasic statistics:\")\n",
    "display(data.describe())"
   ]
  },
  {
   "cell_type": "markdown",
   "id": "3e93b327-3a11-4389-b5b8-388b87f68e66",
   "metadata": {},
   "source": [
    "# 3. Extract features and labels"
   ]
  },
  {
   "cell_type": "code",
   "execution_count": 57,
   "id": "2ca3e04a-b879-464f-ad35-352593034295",
   "metadata": {},
   "outputs": [
    {
     "name": "stdout",
     "output_type": "stream",
     "text": [
      "\n",
      "Feature shape: (60000, 28, 28), Label shape: (60000,)\n"
     ]
    },
    {
     "data": {
      "image/png": "[encoded data removed]",
      "text/plain": [
       "<Figure size 1000x1000 with 25 Axes>"
      ]
     },
     "metadata": {},
     "output_type": "display_data"
    }
   ],
   "source": [
    "y = data['label'].values  \n",
    "X = data.drop('label', axis=1).values  \n",
    "\n",
    "X = X.reshape(-1, 28, 28)\n",
    "\n",
    "print(f\"\\nFeature shape: {X.shape}, Label shape: {y.shape}\")\n",
    "\n",
    "class_names = ['T-shirt/top', 'Trouser', 'Pullover', 'Dress', 'Coat', \n",
    "               'Sandal', 'Shirt', 'Sneaker', 'Bag', 'Ankle boot']\n",
    "\n",
    "def plot_samples(X, y, class_names):\n",
    "    plt.figure(figsize=(10, 10))\n",
    "    for i in range(25):\n",
    "        plt.subplot(5, 5, i + 1)\n",
    "        plt.xticks([])\n",
    "        plt.yticks([])\n",
    "        plt.grid(False)\n",
    "        plt.imshow(X[i], cmap=plt.cm.binary)\n",
    "        plt.xlabel(class_names[y[i]])\n",
    "    plt.tight_layout()\n",
    "    plt.show()\n",
    "\n",
    "plot_samples(X, y, class_names)"
   ]
  },
  {
   "cell_type": "markdown",
   "id": "1e5244f5-04fd-4e2a-abd2-14892f51be18",
   "metadata": {},
   "source": [
    "# 4. Normalize the pixel values (scale to [0, 1])"
   ]
  },
  {
   "cell_type": "code",
   "execution_count": 61,
   "id": "322dc4ca-deef-4969-8e52-352d703556b8",
   "metadata": {},
   "outputs": [],
   "source": [
    "X = X / 255.0"
   ]
  },
  {
   "cell_type": "markdown",
   "id": "b4b2ea26-1d16-4afd-8ef6-c4059364e1eb",
   "metadata": {},
   "source": [
    "# 5. Check for missing values or anomalies"
   ]
  },
  {
   "cell_type": "code",
   "execution_count": 64,
   "id": "b8ca0939-a6a4-4e1a-a161-d8daefd0a715",
   "metadata": {},
   "outputs": [
    {
     "name": "stdout",
     "output_type": "stream",
     "text": [
      "Missing values in the dataset: 0\n"
     ]
    }
   ],
   "source": [
    "print(f\"Missing values in the dataset: {np.isnan(X).sum()}\")"
   ]
  },
  {
   "cell_type": "markdown",
   "id": "e51e2863-802a-4223-a139-0915e1caea69",
   "metadata": {},
   "source": [
    "# 6. One-hot encode the labels"
   ]
  },
  {
   "cell_type": "code",
   "execution_count": 67,
   "id": "54962b8a-4d13-48c9-89be-c069bdf4d608",
   "metadata": {},
   "outputs": [
    {
     "name": "stdout",
     "output_type": "stream",
     "text": [
      "One-hot encoded labels shape: (60000, 10)\n"
     ]
    }
   ],
   "source": [
    "y_encoded = to_categorical(y, num_classes=10)\n",
    "print(f\"One-hot encoded labels shape: {y_encoded.shape}\")"
   ]
  },
  {
   "cell_type": "markdown",
   "id": "6b8a5bea-4471-4d66-807d-364deb3527f6",
   "metadata": {},
   "source": [
    "# 7. Manually split the dataset into train and validation sets"
   ]
  },
  {
   "cell_type": "code",
   "execution_count": 70,
   "id": "a571d481-19de-4b94-9b87-7ffb397194d3",
   "metadata": {},
   "outputs": [
    {
     "name": "stdout",
     "output_type": "stream",
     "text": [
      "Training set shape: (48000, 28, 28), Validation set shape: (12000, 28, 28)\n",
      "Preprocessing complete! You can now use the data for training.\n"
     ]
    }
   ],
   "source": [
    "split_ratio = 0.8\n",
    "split_index = int(len(X) * split_ratio)\n",
    "\n",
    "indices = np.arange(len(X))\n",
    "np.random.shuffle(indices)\n",
    "X = X[indices]\n",
    "y_encoded = y_encoded[indices]\n",
    "\n",
    "X_train, X_val = X[:split_index], X[split_index:]\n",
    "y_train_encoded, y_val_encoded = y_encoded[:split_index], y_encoded[split_index:]\n",
    "\n",
    "print(f\"Training set shape: {X_train.shape}, Validation set shape: {X_val.shape}\")\n",
    "\n",
    "print(\"Preprocessing complete! You can now use the data for training.\")\n"
   ]
  },
  {
   "cell_type": "markdown",
   "id": "a777dd07-2669-4f3c-a27d-d548cac3babc",
   "metadata": {},
   "source": [
    "# Prepare the dataset for training"
   ]
  },
  {
   "cell_type": "code",
   "execution_count": 538,
   "id": "f9304351-e17e-4069-adb1-2bf1f3952918",
   "metadata": {},
   "outputs": [],
   "source": [
    "X_train = X_train.reshape(X_train.shape[0], -1)  # Flatten 28x28 images into vectors\n",
    "X_val = X_val.reshape(X_val.shape[0], -1)       # Flatten validation set\n",
    "input_size = X_train.shape[1]"
   ]
  },
  {
   "cell_type": "code",
   "execution_count": 556,
   "id": "57cfd7ee-6faf-4cf0-8675-432d0cb690b5",
   "metadata": {},
   "outputs": [
    {
     "name": "stdout",
     "output_type": "stream",
     "text": [
      "Shape of X_train_augmented: (192000, 784)\n",
      "Shape of y_train_augmented_encoded: (192000, 10)\n"
     ]
    }
   ],
   "source": [
    "import numpy as np\n",
    "from scipy.ndimage import rotate, shift, zoom\n",
    "def augment_image(image):\n",
    "    angle = np.random.uniform(-10, 10)\n",
    "    image = rotate(image, angle, reshape=False, mode='nearest')\n",
    "\n",
    "    shift_x, shift_y = np.random.uniform(-2, 2, size=2)\n",
    "    image = shift(image, (shift_x, shift_y), mode='nearest')\n",
    "\n",
    "    if np.random.rand() > 0.5:\n",
    "        image = np.fliplr(image)\n",
    "\n",
    "    zoom_factor = np.random.uniform(0.9, 1.1)\n",
    "    image = zoom(image, zoom_factor, mode='nearest')\n",
    "\n",
    "    if image.shape != (28, 28):\n",
    "        image = zoom(image, (28 / image.shape[0], 28 / image.shape[1]), mode='nearest')\n",
    "\n",
    "    return image\n",
    "\n",
    "def augment_dataset(X, y_encoded, num_augmentations=1):\n",
    "    X_augmented = []\n",
    "    y_augmented = []\n",
    "\n",
    "    for i in range(len(X)):\n",
    "        image = X[i]  # Shape (28, 28)\n",
    "        label = y_encoded[i]  # Shape (num_classes,)\n",
    "\n",
    "        X_augmented.append(image)\n",
    "        y_augmented.append(label)\n",
    "\n",
    "        for _ in range(num_augmentations):\n",
    "            augmented_image = augment_image(image)\n",
    "            X_augmented.append(augmented_image)\n",
    "            y_augmented.append(label)\n",
    "\n",
    "    X_augmented = np.array(X_augmented)\n",
    "    y_augmented = np.array(y_augmented)\n",
    "\n",
    "    X_augmented, y_augmented = shuffle(X_augmented, y_augmented, random_state=42)\n",
    "\n",
    "    return X_augmented, y_augmented\n",
    "\n",
    "X_train_reshaped = X_train.reshape(-1, 28, 28)\n",
    "X_train_augmented, y_train_augmented = augment_dataset(X_train_reshaped, y_train_encoded, num_augmentations=3)\n",
    "X_train_augmented = X_train_augmented.reshape(-1, 784)\n",
    "y_train_augmented_encoded = y_train_augmented\n",
    "print(f\"Shape of X_train_augmented: {X_train_augmented.shape}\")\n",
    "print(f\"Shape of y_train_augmented_encoded: {y_train_augmented_encoded.shape}\")"
   ]
  },
  {
   "cell_type": "markdown",
   "id": "a41960a8-eb05-4e75-bece-916d8285277e",
   "metadata": {},
   "source": [
    "# 1. Initialize the network's parameters with He initialization"
   ]
  },
  {
   "cell_type": "code",
   "execution_count": 559,
   "id": "295a6131-219e-4207-beaf-bed24c3a1231",
   "metadata": {},
   "outputs": [],
   "source": [
    "def initialize_parameters(input_size, hidden_size, output_size):\n",
    "    np.random.seed(42)  \n",
    "    W1 = np.random.randn(input_size, hidden_size) * np.sqrt(2. / input_size)  \n",
    "    b1 = np.zeros((1, hidden_size)) \n",
    "    W2 = np.random.randn(hidden_size, output_size) * np.sqrt(2. / hidden_size)  \n",
    "    b2 = np.zeros((1, output_size)) \n",
    "    return W1, b1, W2, b2"
   ]
  },
  {
   "cell_type": "markdown",
   "id": "2f1becda-0d46-4d52-997a-d17f2877d6bc",
   "metadata": {},
   "source": [
    "# 2. Define activation functions (ReLU and Softmax)"
   ]
  },
  {
   "cell_type": "code",
   "execution_count": 562,
   "id": "1d2b74aa-285e-4c16-ad9f-74fda88bf343",
   "metadata": {},
   "outputs": [],
   "source": [
    "def relu(Z):\n",
    "    return np.maximum(0, Z)\n",
    "\n",
    "def relu_derivative(Z):\n",
    "    return Z > 0  \n",
    "\n",
    "def softmax(Z):\n",
    "    exp_Z = np.exp(Z - np.max(Z, axis=1, keepdims=True))  \n",
    "    return exp_Z / np.sum(exp_Z, axis=1, keepdims=True)"
   ]
  },
  {
   "cell_type": "markdown",
   "id": "e8d1a602-0b60-45e1-a17e-08e67055b48f",
   "metadata": {},
   "source": [
    "# 3. Forward propagation"
   ]
  },
  {
   "cell_type": "code",
   "execution_count": 565,
   "id": "6e0c51eb-e89b-48d5-9862-ff2c26bfb71c",
   "metadata": {},
   "outputs": [],
   "source": [
    "def batch_normalization(X, gamma=1, beta=0, epsilon=1e-8):\n",
    "    mean = np.mean(X, axis=0, keepdims=True)\n",
    "    variance = np.var(X, axis=0, keepdims=True)\n",
    "    X_normalized = (X - mean) / np.sqrt(variance + epsilon)\n",
    "    return gamma * X_normalized + beta"
   ]
  },
  {
   "cell_type": "code",
   "execution_count": 567,
   "id": "8aa142fc-877b-4769-9fe8-3ff2d803e822",
   "metadata": {},
   "outputs": [],
   "source": [
    "def forward_propagation(X, W1, b1, W2, b2):\n",
    "    Z1 = np.dot(X, W1) + b1  \n",
    "    A1 = relu(Z1)  \n",
    "    A1 = batch_normalization(A1)\n",
    "    Z2 = np.dot(A1, W2) + b2  \n",
    "    A2 = softmax(Z2) \n",
    "    cache = (Z1, A1, Z2, A2)\n",
    "    return A2, cache"
   ]
  },
  {
   "cell_type": "markdown",
   "id": "d576b3de-7d20-4f5c-ad33-79cbf71b029a",
   "metadata": {},
   "source": [
    "# 4. Compute the loss (categorical cross-entropy with L2 regularization)"
   ]
  },
  {
   "cell_type": "code",
   "execution_count": 570,
   "id": "f79a3b67-c952-48c2-b0ee-a2e857b33bc3",
   "metadata": {},
   "outputs": [],
   "source": [
    "def compute_loss(y_true, y_pred, W1, W2, lambda_reg=0.01):\n",
    "    m = y_true.shape[0]\n",
    "    log_likelihood = -np.log(y_pred[range(m), y_true.argmax(axis=1)])\n",
    "    data_loss = np.sum(log_likelihood) / m\n",
    "    reg_loss = (lambda_reg / (2 * m)) * (np.sum(np.square(W1)) + np.sum(np.square(W2)))\n",
    "    return data_loss + reg_loss"
   ]
  },
  {
   "cell_type": "markdown",
   "id": "8e1d2a1b-1f42-4d02-a660-83db1ab4c92b",
   "metadata": {},
   "source": [
    "# 5. Backward propagation with L2 regularization"
   ]
  },
  {
   "cell_type": "code",
   "execution_count": 573,
   "id": "f57ba0d3-9306-486a-b66a-c5b26f4ec7e5",
   "metadata": {},
   "outputs": [],
   "source": [
    "def batch_normalization_backward(dZ, X, gamma=1, epsilon=1e-8):\n",
    "    m = X.shape[0]  \n",
    "\n",
    "    mean = np.mean(X, axis=0, keepdims=True)\n",
    "    variance = np.var(X, axis=0, keepdims=True)\n",
    "    X_normalized = (X - mean) / np.sqrt(variance + epsilon)\n",
    "\n",
    "    # Gradients\n",
    "    dX_normalized = dZ * gamma\n",
    "    dVariance = np.sum(dX_normalized * (X - mean) * -0.5 * (variance + epsilon) ** (-1.5), axis=0, keepdims=True)\n",
    "    dMean = np.sum(dX_normalized * -1 / np.sqrt(variance + epsilon), axis=0, keepdims=True) + dVariance * np.mean(-2 * (X - mean), axis=0, keepdims=True)\n",
    "    dX = dX_normalized / np.sqrt(variance + epsilon) + dVariance * 2 * (X - mean) / m + dMean / m\n",
    "\n",
    "    return dX"
   ]
  },
  {
   "cell_type": "code",
   "execution_count": 575,
   "id": "8f5c8d91-1813-49cc-9fc5-aed41ca090e8",
   "metadata": {},
   "outputs": [],
   "source": [
    "def backward_propagation(X, y_true, cache, W1, W2, lambda_reg=0.01):\n",
    "    Z1, A1, Z2, A2 = cache\n",
    "    m = X.shape[0]\n",
    "    dZ2 = A2 - y_true\n",
    "    dW2 = np.dot(A1.T, dZ2) / m + (lambda_reg / m) * W2\n",
    "    db2 = np.sum(dZ2, axis=0, keepdims=True) / m\n",
    "    dA1 = np.dot(dZ2, W2.T)\n",
    "    dZ1 = dA1 * relu_derivative(Z1)\n",
    "    dZ1 = batch_normalization_backward(dZ1, A1)\n",
    "    dW1 = np.dot(X.T, dZ1) / m + (lambda_reg / m) * W1\n",
    "    db1 = np.sum(dZ1, axis=0, keepdims=True) / m\n",
    "    return dW1, db1, dW2, db2"
   ]
  },
  {
   "cell_type": "markdown",
   "id": "f81efadc-0900-4251-8cce-a213df4b78e1",
   "metadata": {},
   "source": [
    "# 6. Update parameters using Adam optimizer"
   ]
  },
  {
   "cell_type": "code",
   "execution_count": 578,
   "id": "4c6bce30-399f-4eb2-9ba8-705ceac30f6e",
   "metadata": {},
   "outputs": [],
   "source": [
    "def update_parameters(W1, b1, W2, b2, dW1, db1, dW2, db2, learning_rate, beta1=0.9, beta2=0.999, epsilon=1e-8):\n",
    "    if (not hasattr(update_parameters, \"m_W1\")) or (update_parameters.m_W1.shape != W1.shape):\n",
    "        update_parameters.m_W1 = np.zeros_like(W1)\n",
    "        update_parameters.v_W1 = np.zeros_like(W1)\n",
    "        update_parameters.m_b1 = np.zeros_like(b1)\n",
    "        update_parameters.v_b1 = np.zeros_like(b1)\n",
    "        update_parameters.m_W2 = np.zeros_like(W2)\n",
    "        update_parameters.v_W2 = np.zeros_like(W2)\n",
    "        update_parameters.m_b2 = np.zeros_like(b2)\n",
    "        update_parameters.v_b2 = np.zeros_like(b2)\n",
    "        update_parameters.t = 0  # Initialize timestep counter\n",
    "\n",
    "    update_parameters.t += 1\n",
    "\n",
    "    update_parameters.m_W1 = beta1 * update_parameters.m_W1 + (1 - beta1) * dW1\n",
    "    update_parameters.m_b1 = beta1 * update_parameters.m_b1 + (1 - beta1) * db1\n",
    "    update_parameters.m_W2 = beta1 * update_parameters.m_W2 + (1 - beta1) * dW2\n",
    "    update_parameters.m_b2 = beta1 * update_parameters.m_b2 + (1 - beta1) * db2\n",
    "\n",
    "    update_parameters.v_W1 = beta2 * update_parameters.v_W1 + (1 - beta2) * np.square(dW1)\n",
    "    update_parameters.v_b1 = beta2 * update_parameters.v_b1 + (1 - beta2) * np.square(db1)\n",
    "    update_parameters.v_W2 = beta2 * update_parameters.v_W2 + (1 - beta2) * np.square(dW2)\n",
    "    update_parameters.v_b2 = beta2 * update_parameters.v_b2 + (1 - beta2) * np.square(db2)\n",
    "\n",
    "    m_W1_corr = update_parameters.m_W1 / (1 - beta1 ** update_parameters.t)\n",
    "    m_b1_corr = update_parameters.m_b1 / (1 - beta1 ** update_parameters.t)\n",
    "    m_W2_corr = update_parameters.m_W2 / (1 - beta1 ** update_parameters.t)\n",
    "    m_b2_corr = update_parameters.m_b2 / (1 - beta1 ** update_parameters.t)\n",
    "\n",
    "    v_W1_corr = update_parameters.v_W1 / (1 - beta2 ** update_parameters.t)\n",
    "    v_b1_corr = update_parameters.v_b1 / (1 - beta2 ** update_parameters.t)\n",
    "    v_W2_corr = update_parameters.v_W2 / (1 - beta2 ** update_parameters.t)\n",
    "    v_b2_corr = update_parameters.v_b2 / (1 - beta2 ** update_parameters.t)\n",
    "\n",
    "    W1 -= learning_rate * m_W1_corr / (np.sqrt(v_W1_corr) + epsilon)\n",
    "    b1 -= learning_rate * m_b1_corr / (np.sqrt(v_b1_corr) + epsilon)\n",
    "    W2 -= learning_rate * m_W2_corr / (np.sqrt(v_W2_corr) + epsilon)\n",
    "    b2 -= learning_rate * m_b2_corr / (np.sqrt(v_b2_corr) + epsilon)\n",
    "\n",
    "    return W1, b1, W2, b2"
   ]
  },
  {
   "cell_type": "markdown",
   "id": "ad6a0068-06d5-4adb-a1a6-5e267341bbef",
   "metadata": {},
   "source": [
    "# 7. Train the network with early stopping"
   ]
  },
  {
   "cell_type": "code",
   "execution_count": 581,
   "id": "bd08d2d7-2020-4b63-9d79-a614be5178f8",
   "metadata": {},
   "outputs": [],
   "source": [
    "def train(X_train, y_train, X_val, y_val, hidden_size=128, epochs=50, learning_rate=0.001, lambda_reg=0.01, patience=5):\n",
    "    input_size = X_train.shape[1]\n",
    "    output_size = y_train.shape[1]\n",
    "    W1, b1, W2, b2 = initialize_parameters(input_size, hidden_size, output_size)\n",
    "    best_val_loss = float('inf')\n",
    "    wait = 0\n",
    "    for epoch in range(epochs):      \n",
    "        y_pred, cache = forward_propagation(X_train, W1, b1, W2, b2)\n",
    "        train_loss = compute_loss(y_train, y_pred, W1, W2, lambda_reg)\n",
    "        dW1, db1, dW2, db2 = backward_propagation(X_train, y_train, cache, W1, W2, lambda_reg)\n",
    "        W1, b1, W2, b2 = update_parameters(W1, b1, W2, b2, dW1, db1, dW2, db2, learning_rate)\n",
    "        y_val_pred, _ = forward_propagation(X_val, W1, b1, W2, b2)\n",
    "        val_loss = compute_loss(y_val, y_val_pred, W1, W2, lambda_reg)\n",
    "        if val_loss < best_val_loss:\n",
    "            best_val_loss = val_loss\n",
    "            wait = 0\n",
    "        else:\n",
    "            wait += 1\n",
    "            if wait >= patience:\n",
    "                print(f\"Early stopping at epoch {epoch + 1}\")\n",
    "                break\n",
    "        if (epoch + 1) % 1 == 0:\n",
    "            print(f\"Epoch {epoch + 1}/{epochs}: Train Loss = {train_loss:.4f}, Val Loss = {val_loss:.4f}\")\n",
    "\n",
    "    return W1, b1, W2, b2"
   ]
  },
  {
   "cell_type": "markdown",
   "id": "940ff554-4707-4fc4-8586-6ed4850cf60b",
   "metadata": {},
   "source": [
    "# 8. Predict and evaluate accuracy"
   ]
  },
  {
   "cell_type": "code",
   "execution_count": 584,
   "id": "51f5d4f9-7431-46b8-9e5c-b62fc51202e1",
   "metadata": {},
   "outputs": [],
   "source": [
    "def predict(X, W1, b1, W2, b2):\n",
    "    y_pred, _ = forward_propagation(X, W1, b1, W2, b2)\n",
    "    return np.argmax(y_pred, axis=1)\n",
    "\n",
    "def compute_accuracy(y_true, y_pred):\n",
    "    return np.mean(y_true.argmax(axis=1) == y_pred)"
   ]
  },
  {
   "cell_type": "markdown",
   "id": "55c6fd82-2dd8-40d9-81c6-d03a986ceaec",
   "metadata": {},
   "source": [
    "# Train the neural network"
   ]
  },
  {
   "cell_type": "code",
   "execution_count": 651,
   "id": "27be8cae-e168-428d-8a62-6f6af6619b05",
   "metadata": {},
   "outputs": [
    {
     "name": "stdout",
     "output_type": "stream",
     "text": [
      "Epoch 1/40: Train Loss = 2.5707, Val Loss = 1.2792\n",
      "Epoch 2/40: Train Loss = 1.2778, Val Loss = 0.9587\n",
      "Epoch 3/40: Train Loss = 0.9563, Val Loss = 0.8206\n",
      "Epoch 4/40: Train Loss = 0.8187, Val Loss = 0.7504\n",
      "Epoch 5/40: Train Loss = 0.7502, Val Loss = 0.6961\n",
      "Epoch 6/40: Train Loss = 0.6970, Val Loss = 0.6516\n",
      "Epoch 7/40: Train Loss = 0.6528, Val Loss = 0.6216\n",
      "Epoch 8/40: Train Loss = 0.6226, Val Loss = 0.5986\n",
      "Epoch 9/40: Train Loss = 0.5991, Val Loss = 0.5776\n",
      "Epoch 10/40: Train Loss = 0.5782, Val Loss = 0.5608\n",
      "Epoch 11/40: Train Loss = 0.5616, Val Loss = 0.5486\n",
      "Epoch 12/40: Train Loss = 0.5488, Val Loss = 0.5379\n",
      "Epoch 13/40: Train Loss = 0.5369, Val Loss = 0.5276\n",
      "Epoch 14/40: Train Loss = 0.5250, Val Loss = 0.5189\n",
      "Epoch 15/40: Train Loss = 0.5147, Val Loss = 0.5117\n",
      "Epoch 16/40: Train Loss = 0.5063, Val Loss = 0.5049\n",
      "Epoch 17/40: Train Loss = 0.4987, Val Loss = 0.4978\n",
      "Epoch 18/40: Train Loss = 0.4911, Val Loss = 0.4907\n",
      "Epoch 19/40: Train Loss = 0.4835, Val Loss = 0.4837\n",
      "Epoch 20/40: Train Loss = 0.4759, Val Loss = 0.4771\n",
      "Epoch 21/40: Train Loss = 0.4686, Val Loss = 0.4711\n",
      "Epoch 22/40: Train Loss = 0.4619, Val Loss = 0.4658\n",
      "Epoch 23/40: Train Loss = 0.4560, Val Loss = 0.4609\n",
      "Epoch 24/40: Train Loss = 0.4507, Val Loss = 0.4564\n",
      "Epoch 25/40: Train Loss = 0.4458, Val Loss = 0.4527\n",
      "Epoch 26/40: Train Loss = 0.4415, Val Loss = 0.4495\n",
      "Epoch 27/40: Train Loss = 0.4377, Val Loss = 0.4465\n",
      "Epoch 28/40: Train Loss = 0.4339, Val Loss = 0.4436\n",
      "Epoch 29/40: Train Loss = 0.4302, Val Loss = 0.4409\n",
      "Epoch 30/40: Train Loss = 0.4265, Val Loss = 0.4379\n",
      "Epoch 31/40: Train Loss = 0.4226, Val Loss = 0.4349\n",
      "Epoch 32/40: Train Loss = 0.4188, Val Loss = 0.4322\n",
      "Epoch 33/40: Train Loss = 0.4154, Val Loss = 0.4297\n",
      "Epoch 34/40: Train Loss = 0.4120, Val Loss = 0.4272\n",
      "Epoch 35/40: Train Loss = 0.4086, Val Loss = 0.4249\n",
      "Epoch 36/40: Train Loss = 0.4054, Val Loss = 0.4226\n",
      "Epoch 37/40: Train Loss = 0.4023, Val Loss = 0.4204\n",
      "Epoch 38/40: Train Loss = 0.3994, Val Loss = 0.4181\n",
      "Epoch 39/40: Train Loss = 0.3963, Val Loss = 0.4157\n",
      "Epoch 40/40: Train Loss = 0.3932, Val Loss = 0.4135\n"
     ]
    }
   ],
   "source": [
    "W1, b1, W2, b2 = train(X_train, y_train_encoded, X_val, y_val_encoded, hidden_size=512, epochs=40, learning_rate=0.001, lambda_reg=0.1, patience=5)"
   ]
  },
  {
   "cell_type": "markdown",
   "id": "04daa00b-1397-404f-b69a-269631fdb393",
   "metadata": {},
   "source": [
    "# Evaluate the model"
   ]
  },
  {
   "cell_type": "code",
   "execution_count": 654,
   "id": "df766c67-183c-40d7-bc63-889665d8cdc0",
   "metadata": {},
   "outputs": [
    {
     "name": "stdout",
     "output_type": "stream",
     "text": [
      "Training Accuracy: 0.8667\n",
      "Validation Accuracy: 0.8620\n"
     ]
    }
   ],
   "source": [
    "\n",
    "y_train_pred = predict(X_train, W1, b1, W2, b2)\n",
    "y_val_pred = predict(X_val, W1, b1, W2, b2)\n",
    "\n",
    "train_accuracy = compute_accuracy(y_train_encoded, y_train_pred)\n",
    "val_accuracy = compute_accuracy(y_val_encoded, y_val_pred)\n",
    "\n",
    "print(f\"Training Accuracy: {train_accuracy:.4f}\")\n",
    "print(f\"Validation Accuracy: {val_accuracy:.4f}\")"
   ]
  },
  {
   "cell_type": "code",
   "execution_count": 656,
   "id": "5e744c8e-3a25-4168-aff3-f41ee6b20828",
   "metadata": {},
   "outputs": [
    {
     "name": "stdout",
     "output_type": "stream",
     "text": [
      "Test Accuracy: 0.8581\n",
      "Classification Report:\n",
      "              precision    recall  f1-score   support\n",
      "\n",
      "     Class 0       0.78      0.82      0.80      1000\n",
      "     Class 1       0.97      0.97      0.97      1000\n",
      "     Class 2       0.79      0.77      0.78      1000\n",
      "     Class 3       0.88      0.88      0.88      1000\n",
      "     Class 4       0.77      0.81      0.79      1000\n",
      "     Class 5       0.93      0.91      0.92      1000\n",
      "     Class 6       0.67      0.61      0.64      1000\n",
      "     Class 7       0.90      0.91      0.90      1000\n",
      "     Class 8       0.95      0.96      0.95      1000\n",
      "     Class 9       0.93      0.94      0.94      1000\n",
      "\n",
      "    accuracy                           0.86     10000\n",
      "   macro avg       0.86      0.86      0.86     10000\n",
      "weighted avg       0.86      0.86      0.86     10000\n",
      "\n"
     ]
    }
   ],
   "source": [
    "import numpy as np\n",
    "import pandas as pd\n",
    "\n",
    "test_data = pd.read_csv(\"fashion-mnist_test.csv\")\n",
    "X_test = test_data.iloc[:, 1:].values  # Pixel values (features)\n",
    "y_test = test_data.iloc[:, 0].values   # Labels\n",
    "X_test = X_test / 255.0\n",
    "X_test = X_test.reshape(X_test.shape[0], -1)\n",
    "num_classes = 10\n",
    "y_test_encoded = np.eye(num_classes)[y_test]\n",
    "y_test_pred = predict(X_test, W1, b1, W2, b2)\n",
    "test_accuracy = compute_accuracy(y_test_encoded, y_test_pred)\n",
    "print(f\"Test Accuracy: {test_accuracy:.4f}\")\n",
    "from sklearn.metrics import classification_report\n",
    "print(\"Classification Report:\")\n",
    "print(classification_report(y_test, y_test_pred, target_names=[f\"Class {i}\" for i in range(num_classes)]))"
   ]
  },
  {
   "cell_type": "code",
   "execution_count": null,
   "id": "e902e527-f768-489b-9334-b8f86b598525",
   "metadata": {},
   "outputs": [],
   "source": []
  }
 ],
 "metadata": {
  "kernelspec": {
   "display_name": "Python 3 (ipykernel)",
   "language": "python",
   "name": "python3"
  },
  "language_info": {
   "codemirror_mode": {
    "name": "ipython",
    "version": 3
   },
   "file_extension": ".py",
   "mimetype": "text/x-python",
   "name": "python",
   "nbconvert_exporter": "python",
   "pygments_lexer": "ipython3",
   "version": "3.11.8"
  }
 },
 "nbformat": 4,
 "nbformat_minor": 5
}
